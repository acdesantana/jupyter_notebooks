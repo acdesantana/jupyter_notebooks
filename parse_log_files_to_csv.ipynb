{
 "cells": [
  {
   "cell_type": "code",
   "execution_count": 180,
   "metadata": {
    "scrolled": true
   },
   "outputs": [
    {
     "name": "stdout",
     "output_type": "stream",
     "text": [
      "06-14 17:25:54.625\ttUHM:TWatchManagerApplication.AppVersion : 2.2.20.17113061\n",
      "\n",
      "06-14 17:25:54.632\ttUHM:SetupWizardWelcomeActivity.UHM onCreate() Intent: Intent { act=android.intent.action.MAIN cat=[android.intent.category.LAUNCHER] flg=0x10200000 cmp=com.samsung.android.app.watchmanager/.setupwizard.SetupWizardWelcomeActivity launchParam=MultiScreenLaunchParams { mDisplayId=0 mFlags=0 } bnds=[694,471][949,789] (has extras) }\n",
      "\n",
      "['date;mili;text;time\\n', '06-14;625;tUHM:TWatchManagerApplication.AppVersion;17:25:54.625\\n', '06-14;625;:;17:25:54.625\\n', '06-14;625;2.2.20.17113061;17:25:54.625\\n']\n"
     ]
    }
   ],
   "source": [
    "#https://pythonicways.wordpress.com/2016/12/20/log-file-parsing-in-python/\n",
    "#https://stackoverflow.com/questions/2084069/create-a-csv-file-with-values-from-a-python-list\n",
    "\n",
    "%config IPCompleter.greedy=True #enables autoccomplete/intellisense\n",
    "from bs4 import BeautifulSoup as bs\n",
    "import os\n",
    "import io\n",
    "import re\n",
    "import csv\n",
    "import pandas \n",
    "\n",
    "#only_numbers = [(0-1)(0-2)-(0-3)(0-9)]//s[(0-2)(0-9):(0-5)(0-9):(0-5)(0-9)].[3(0-9)]\n",
    "#exemplo de data --->  06-14 17:25:54.745\n",
    "\n",
    "#usuário deve informar como script deve interpretar colunas\n",
    "\n",
    "csv_file_path = r'/home/amanda/jupiter_notebooks/parse_log_files_to_csv/dumpState-UHM_CSV.csv' #in the future, read/load filename from input() --> STDIN do Python\n",
    "filename = r'/home/amanda/jupiter_notebooks/parse_log_files_to_csv/dumpState-UHM.log' #in the future, read/load filename from input() --> STDIN do Python\n",
    "if not os.path.isfile(filename):\n",
    "    print('Arquivo não encontrado.')\n",
    "else:\n",
    "    #log_file = open(filename, 'rU', errors='ignore') # 'U'niversal: ignore newlines characters as '\\n'\n",
    "    with open(filename, 'r', errors='ignore') as log_file:\n",
    "        log_lines = log_file.readlines()\n",
    "        log_file.close()\n",
    "        print(log_lines[1])\n",
    "        #print(log_lines[1].split()[0])\n",
    "        print(log_lines[2])\n",
    "        \n",
    "    with open(csv_file_path, 'w') as csv_file:\n",
    "        # The idea here is use miliseconds as an index for query specific words.\n",
    "        df = pandas.DataFrame(data={'mili':log_lines[1].split()[1].split('.')[1],\n",
    "                                    'date':log_lines[1].split()[0], \n",
    "                                    'time':log_lines[1].split()[1],\n",
    "                                    'text':log_lines[1].split()[2:]})\n",
    "        df.to_csv(csv_file_path, sep=';',index=False)\n",
    "        \n",
    "        csv_file.close()\n",
    "        with open(csv_file_path, 'r', errors='ignore') as csv:\n",
    "            print(csv.readlines())\n",
    "            csv.close()\n",
    "    \n",
    "        \n",
    "        \n",
    "        "
   ]
  },
  {
   "cell_type": "code",
   "execution_count": 15,
   "metadata": {
    "collapsed": true
   },
   "outputs": [],
   "source": []
  },
  {
   "cell_type": "code",
   "execution_count": null,
   "metadata": {
    "collapsed": true
   },
   "outputs": [],
   "source": [
    "\n",
    "\n",
    "\n",
    "\n",
    "\n",
    "\n",
    "'''\n",
    "    for line in infile:\n",
    "        col_1 = line[0:19]\n",
    "        col_2 = line[19:24]\n",
    "        col_3 = line[30:]\n",
    "        print(col_2)\n",
    "        #if(col_1.matches(only_numbers)):\n",
    "        #   \n",
    "        #elif(col_2.matches(regex_2)):\n",
    "        #    regex_2 should match for strings with colon(:) \n",
    "        #else:\n",
    "        #    col_3 = line[19:]\n",
    "        #    escape break this line. All of it should fit into col_3\n",
    "        \n",
    "        #df = pandas.DataFrame(data={'col_1':col_1, 'col_2': col_2, 'col_3': col_3})\n",
    "        outfile.writerow(line)\n",
    "        #df.to_csv(csv_file, sep=';',index=False)\n",
    "        \n",
    "'''  \n",
    "\n",
    "'''\n",
    "log_file_path = r'/home/amanda/jupiter_notebooks/parse_log_files_to_csv/dumpState-UHM.log'\n",
    "regex = '(<property name=\"(.*?)\">(.*?)<\\/property>)'\n",
    "\n",
    "match_list = []\n",
    "if None != log_file_path:\n",
    "    with open(log_file_path, \"r\") as file:\n",
    "        for line in file:\n",
    "            for match in re.finditer(regex, line, re.S):\n",
    "                match_text = match.group()\n",
    "                match_list.append(match_text)\n",
    "                print (match_text)\n",
    "\n",
    "else:\n",
    "    print ('no log_file_path')\n",
    "\n",
    "'''\n",
    "\n",
    "\n"
   ]
  }
 ],
 "metadata": {
  "kernelspec": {
   "display_name": "Python 3",
   "language": "python",
   "name": "python3"
  },
  "language_info": {
   "codemirror_mode": {
    "name": "ipython",
    "version": 3
   },
   "file_extension": ".py",
   "mimetype": "text/x-python",
   "name": "python",
   "nbconvert_exporter": "python",
   "pygments_lexer": "ipython3",
   "version": "3.6.3"
  }
 },
 "nbformat": 4,
 "nbformat_minor": 2
}
