{
 "cells": [
  {
   "cell_type": "code",
   "execution_count": 4,
   "metadata": {},
   "outputs": [
    {
     "ename": "SyntaxError",
     "evalue": "Missing parentheses in call to 'print' (<ipython-input-4-673f0456ca6d>, line 14)",
     "output_type": "error",
     "traceback": [
      "\u001b[0;36m  File \u001b[0;32m\"<ipython-input-4-673f0456ca6d>\"\u001b[0;36m, line \u001b[0;32m14\u001b[0m\n\u001b[0;31m    print count\u001b[0m\n\u001b[0m              ^\u001b[0m\n\u001b[0;31mSyntaxError\u001b[0m\u001b[0;31m:\u001b[0m Missing parentheses in call to 'print'\n"
     ]
    }
   ],
   "source": [
    "import sys, re\n",
    "\n",
    "def egrep():\n",
    "    regex = sys.argv[1]\n",
    "\n",
    "    for line in sys.stdin:\n",
    "        if re.search(regex, line):\n",
    "            sys.stdout.write(line)\n",
    "            \n",
    "def line_count():             \n",
    "    count = 0\n",
    "    for line in sys.stdin:\n",
    "        count +=1\n",
    "    print (count)\n",
    "    \n",
    "def most_common_words():\n",
    "    from collections import Counter\n",
    "    \n",
    "    try:\n",
    "        num_words = int(sys.argv[1]) '''  como 2o argumento da lista de parametros '''\n",
    "    \n",
    "    \n",
    "    "
   ]
  },
  {
   "cell_type": "code",
   "execution_count": null,
   "metadata": {
    "collapsed": true
   },
   "outputs": [],
   "source": [
    "'''\n",
    "    cat arquivo_teste.txt | python egrep.py | line_count.py \n",
    "    [ lido o arquivo | executa egrep.py | conta as linhas]\n",
    "'''\n",
    "\n",
    "\n",
    "\n"
   ]
  }
 ],
 "metadata": {
  "kernelspec": {
   "display_name": "Python 3",
   "language": "python",
   "name": "python3"
  },
  "language_info": {
   "codemirror_mode": {
    "name": "ipython",
    "version": 3
   },
   "file_extension": ".py",
   "mimetype": "text/x-python",
   "name": "python",
   "nbconvert_exporter": "python",
   "pygments_lexer": "ipython3",
   "version": "3.6.2"
  }
 },
 "nbformat": 4,
 "nbformat_minor": 2
}
